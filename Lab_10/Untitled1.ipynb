{
 "cells": [
  {
   "cell_type": "code",
   "execution_count": 1,
   "id": "0b4e81d9-96c8-4e32-8dee-20ee948ebc04",
   "metadata": {},
   "outputs": [],
   "source": [
    "\n",
    "import psycopg2\n",
    " \n",
    "conn = psycopg2.connect(host=\"localhost\", dbname=\"new_lab\", user=\"postgres\",\n",
    "                        password=\"loony66\", port=5432)   \n",
    " \n",
    "cur = conn.cursor()\n",
    " \n",
    "conn.set_session(autocommit=True)\n",
    "\n",
    "cur.execute(\"\"\"CREATE TABLE if not exists snake(\n",
    "            name VARCHAR(255),\n",
    "            level INTEGER,\n",
    "            score INTEGER\n",
    ");\n",
    "           \"\"\")\n",
    "#conn.commit()\n"
   ]
  }
 ],
 "metadata": {
  "kernelspec": {
   "display_name": "Python [conda env:base] *",
   "language": "python",
   "name": "conda-base-py"
  },
  "language_info": {
   "codemirror_mode": {
    "name": "ipython",
    "version": 3
   },
   "file_extension": ".py",
   "mimetype": "text/x-python",
   "name": "python",
   "nbconvert_exporter": "python",
   "pygments_lexer": "ipython3",
   "version": "3.12.9"
  }
 },
 "nbformat": 4,
 "nbformat_minor": 5
}
